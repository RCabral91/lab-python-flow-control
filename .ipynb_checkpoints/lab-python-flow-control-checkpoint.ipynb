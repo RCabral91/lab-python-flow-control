{
 "cells": [
  {
   "cell_type": "markdown",
   "id": "d3bfc191-8885-42ee-b0a0-bbab867c6f9f",
   "metadata": {
    "tags": []
   },
   "source": [
    "# Lab | Flow Control"
   ]
  },
  {
   "cell_type": "markdown",
   "id": "3851fcd1-cf98-4653-9c89-e003b7ec9400",
   "metadata": {},
   "source": [
    "## Exercise: Managing Customer Orders Optimized\n",
    "\n",
    "In the last lab, you were starting an online store that sells various products. To ensure smooth operations, you developed a program that manages customer orders and inventory.\n",
    "\n",
    "You did so without using flow control. Let's go a step further and improve this code.\n",
    "\n",
    "Follow the steps below to complete the exercise:\n",
    "\n",
    "1. Look at your code from the lab data structures, and improve repeated code with loops.\n",
    "\n",
    "2. Instead of asking the user to input the name of three products that a customer wants to order, do the following:\n",
    "    \n",
    "    a. Prompt the user to enter the name of a product that a customer wants to order.\n",
    "    \n",
    "    b. Add the product name to the \"customer_orders\" set.\n",
    "    \n",
    "    c. Ask the user if they want to add another product (yes/no).\n",
    "    \n",
    "    d. Continue the loop until the user does not want to add another product.\n",
    "\n",
    "3. Instead of updating the inventory by subtracting 1 from the quantity of each product, only do it for  the products that were ordered (those in \"customer_orders\")."
   ]
  },
  {
   "cell_type": "code",
   "execution_count": 7,
   "id": "5a139e75-709e-4bc7-bc5d-a939dca00329",
   "metadata": {},
   "outputs": [
    {
     "name": "stdin",
     "output_type": "stream",
     "text": [
      "Enter the quantity of t-shirts:  4\n",
      "Enter the quantity of mugs:  4\n",
      "Enter the quantity of hats:  4\n",
      "Enter the quantity of books:  4\n",
      "Enter the quantity of keychains:  4\n",
      "Order your product:  mug\n",
      "Do you want another product? (yes/no):  yes\n",
      "Order your product:  mug\n",
      "Do you want another product? (yes/no):  yes\n",
      "Order your product:  mug\n",
      "Do you want another product? (yes/no):  yes\n",
      "Order your product:  hat\n",
      "Do you want another product? (yes/no):  no\n"
     ]
    },
    {
     "name": "stdout",
     "output_type": "stream",
     "text": [
      "Order Statistics: \n",
      "Total products ordered: 2\n",
      "Percentage of products ordered: 40.0 %\n",
      "Updated inventory\n",
      "t-shirt: 4\n",
      "mug: 3\n",
      "hat: 3\n",
      "book: 4\n",
      "keychain: 4\n"
     ]
    }
   ],
   "source": [
    "products = [\"t-shirt\", \"mug\", \"hat\", \"book\", \"keychain\"]\n",
    "inventory = {}\n",
    "\n",
    "for product in products:\n",
    "    quantity = int(input(f\"Enter the quantity of {product}s: \"))\n",
    "    inventory[product] = quantity\n",
    "\n",
    "customer_orders = set()\n",
    "\n",
    "answer = \"yes\"\n",
    "\n",
    "while answer == \"yes\":\n",
    "    order = input(\"Order your product: \").lower()\n",
    "\n",
    "    if order in products:\n",
    "        customer_orders.add(order)\n",
    "    else:\n",
    "        print(\"Product not found.\")\n",
    "\n",
    "    answer = input(\"Do you want another product? (yes/no): \").lower()\n",
    "\n",
    "\n",
    "total_products_ordered = len(customer_orders)\n",
    "percentage_ordered = (len(customer_orders) / len(products)) * 100\n",
    "order_status = (total_products_ordered, percentage_ordered)\n",
    "\n",
    "print(f\"Order Statistics: \")\n",
    "print(f\"Total products ordered: {order_status[0]}\")\n",
    "print(f\"Percentage of products ordered: {order_status[1]} %\")\n",
    "\n",
    "for item in customer_orders:\n",
    "    if item in inventory and inventory[item] > 0:\n",
    "        inventory[item] -= 1\n",
    "\n",
    "print(\"Updated inventory\")\n",
    "for product in inventory:\n",
    "    print(f\"{product}: {inventory[product]}\")"
   ]
  },
  {
   "cell_type": "code",
   "execution_count": null,
   "id": "f12d2a81-f238-44bd-b3b3-eab480162d6b",
   "metadata": {},
   "outputs": [],
   "source": []
  }
 ],
 "metadata": {
  "kernelspec": {
   "display_name": "Python 3",
   "language": "python",
   "name": "python3"
  },
  "language_info": {
   "codemirror_mode": {
    "name": "ipython",
    "version": 3
   },
   "file_extension": ".py",
   "mimetype": "text/x-python",
   "name": "python",
   "nbconvert_exporter": "python",
   "pygments_lexer": "ipython3",
   "version": "3.11.7"
  }
 },
 "nbformat": 4,
 "nbformat_minor": 5
}
